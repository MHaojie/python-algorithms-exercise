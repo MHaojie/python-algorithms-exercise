{
 "cells": [
  {
   "cell_type": "code",
   "execution_count": 5,
   "metadata": {},
   "outputs": [],
   "source": [
    "from random import seed, shuffle\n",
    "\n",
    "\n",
    "def generate_dial_and_centre(for_seed):\n",
    "    colours = 'CDHS' # Clubs, Diamonds, Hearts, Spades\n",
    "    #                                            jacks, queens, kings\n",
    "    ranks = list(str(x) for x in range(1, 11)) + list('jqk')\n",
    "    seed(for_seed)\n",
    "    cards = [colour + rank for colour in colours for rank in ranks]\n",
    "    shuffle(cards)\n",
    "    dial = dict.fromkeys(range(1, 13))\n",
    "    for i in range(12):\n",
    "        dial[i + 1] = [cards[i + 13 * j] for j in range(4)]\n",
    "    return dial, [cards[12 + 13 * j] for j in range(4)]\n",
    "\n",
    "def print_card(card):\n",
    "    card_number={'1':0,'2':1,'3':2,'4':3,'5':4,'6':5,'7':6,'8':7,'9':8,'10':9,'j':10,'q':12,'k':13}\n",
    "    card_color={'S':0x1F0A1,'H':0x1F0B1,'D':0x1F0C1,'C':0x1F0D1}\n",
    "    a = card_color[card[0]] + card_number[card[1:]]\n",
    "    return chr(a)\n",
    "\n",
    "def initial_hour(hour, dial):\n",
    "    chr_dial=[]\n",
    "    for i in dial[hour]:\n",
    "        print(i)\n",
    "        a='hidden'+print_card(i)\n",
    "        chr_dial.append(a)\n",
    "    print(' '.join(chr_dial))\n",
    "            \n",
    "\n",
    "def hour_after_playing_from_beginning_for_at_most(hour, nb_of_steps, dial,centre):\n",
    "    card_hour={'1':1,'2':2,'3':3,'4':4,'5':5,'6':6,'7':7,'8':8,'9':9,'10':10,'j':11,'q':12,'k':13}\n",
    "    dial_copy=dial\n",
    "    dial_copy[13]=centre\n",
    "    facing_up_dial={}\n",
    "    for i in range(1,14):\n",
    "        facing_up_dial[i]=[]\n",
    "    step=1\n",
    "    operate_stack = 13\n",
    "    while step<=nb_of_steps:\n",
    "        if len(dial_copy[operate_stack]) == 0:\n",
    "            break\n",
    "        a=dial_copy[operate_stack][-1]\n",
    "        facing_up_dial[card_hour[a[1:]]].append(a)\n",
    "        dial_copy[operate_stack].remove(dial_copy[operate_stack][-1])\n",
    "        operate_stack = card_hour[a[1:]]\n",
    "        step+=1\n",
    "    if nb_of_steps<53:\n",
    "        if step-1<nb_of_steps:\n",
    "            return print('Could not play that far...')\n",
    "    else:\n",
    "        if step-1<52:\n",
    "            return print('Could not play that far...')\n",
    "    for i in range(1,14):\n",
    "        facing_up_dial[i].reverse()\n",
    "    print_hour=[]\n",
    "    for m in facing_up_dial[hour]:\n",
    "        print_hour.append(print_card(m))\n",
    "    for n in dial_copy[hour]:\n",
    "        a='hidden'+print_card(n)\n",
    "        print_hour.append(a) \n",
    "    print('  '.join(print_hour))\n",
    "    \n",
    "        \n",
    "\n",
    "def kings_at_end_of_game(dial, centre):\n",
    "    card_hour={'1':1,'2':2,'3':3,'4':4,'5':5,'6':6,'7':7,'8':8,'9':9,'10':10,'j':11,'q':12,'k':13}\n",
    "    dial_copy=dial\n",
    "    dial_copy[13]=centre\n",
    "    facing_up_dial={}\n",
    "    for i in range(1,14):\n",
    "        facing_up_dial[i]=[]\n",
    "    step=1\n",
    "    operate_stack = 13\n",
    "    while step<=52:\n",
    "        if len(dial_copy[operate_stack]) == 0:\n",
    "            break\n",
    "        a=dial_copy[operate_stack][-1]\n",
    "        facing_up_dial[card_hour[a[1:]]].append(a)\n",
    "        dial_copy[operate_stack].remove(dial_copy[operate_stack][-1])\n",
    "        operate_stack = card_hour[a[1:]]\n",
    "        step+=1\n",
    "    if step-1<52:\n",
    "        return print('No success...')\n",
    "    for i in range(1,14):\n",
    "        facing_up_dial[i].reverse()\n",
    "    print_hour=[]\n",
    "    for m in facing_up_dial[13]:\n",
    "        print_hour.append(print_card(m))\n",
    "    for n in dial_copy[13]:\n",
    "        a='hidden'+print_card(n)\n",
    "        print_hour.append(a) \n",
    "    print('  '.join(print_hour))"
   ]
  },
  {
   "cell_type": "code",
   "execution_count": 109,
   "metadata": {},
   "outputs": [
    {
     "name": "stdout",
     "output_type": "stream",
     "text": [
      "No success...\n"
     ]
    }
   ],
   "source": [
    "dial, centre = generate_dial_and_centre(0)\n",
    "kings_at_end_of_game(dial, centre)"
   ]
  },
  {
   "cell_type": "code",
   "execution_count": 10,
   "metadata": {},
   "outputs": [
    {
     "data": {
      "text/plain": [
       "'10'"
      ]
     },
     "execution_count": 10,
     "metadata": {},
     "output_type": "execute_result"
    }
   ],
   "source": [
    "a='H10'\n",
    "a[1:]"
   ]
  },
  {
   "cell_type": "code",
   "execution_count": 84,
   "metadata": {},
   "outputs": [
    {
     "name": "stdout",
     "output_type": "stream",
     "text": [
      "1: ['H3', 'H10', 'D9', 'D1']\n",
      "2: ['Ck', 'D8', 'H2', 'Hq']\n",
      "3: ['S7', 'D2', 'Sq', 'D10']\n",
      "4: ['S3', 'Sk', 'Dj', 'H5']\n",
      "5: ['Hk', 'H4', 'C4', 'D7']\n",
      "6: ['C8', 'H9', 'S5', 'Dk']\n",
      "7: ['C6', 'S6', 'C10', 'H6']\n",
      "8: ['Hj', 'S1', 'S9', 'H7']\n",
      "9: ['C2', 'Cq', 'C7', 'D4']\n",
      "10: ['Sj', 'S4', 'S2', 'C3']\n",
      "11: ['H8', 'D5', 'D6', 'H1']\n",
      "12: ['C1', 'D3', 'C9', 'S10']\n",
      "S7\n",
      "D2\n",
      "Sq\n",
      "D10\n",
      "hidden🂧 hidden🃂 hidden🂬 hidden🃊\n"
     ]
    }
   ],
   "source": [
    "dial, centre = generate_dial_and_centre(0)\n",
    "for hour in dial:\n",
    "    print(hour, dial[hour], sep=': ')\n",
    "initial_hour(3, dial)"
   ]
  },
  {
   "cell_type": "code",
   "execution_count": 93,
   "metadata": {},
   "outputs": [],
   "source": [
    "def print_card(card):\n",
    "    card_number={'1':0,'2':1,'3':2,'4':3,'5':4,'6':5,'7':6,'8':7,'9':8,'10':9,'j':10,'q':12,'k':13}\n",
    "    card_color={'S':0x1F0A1,'H':0x1F0B1,'D':0x1F0C1,'C':0x1F0D1}\n",
    "    if len(card)==3:\n",
    "        a = card_color[card[0]] + card_number[card[1]+card[2]]\n",
    "    else:\n",
    "        a = card_color[card[0]] + card_number[card[1]]\n",
    "    return chr(a)"
   ]
  },
  {
   "cell_type": "code",
   "execution_count": 20,
   "metadata": {},
   "outputs": [
    {
     "data": {
      "text/plain": [
       "{'S': 127137, 'H': 127153, 'D': 127169, 'C': 127185}"
      ]
     },
     "execution_count": 20,
     "metadata": {},
     "output_type": "execute_result"
    }
   ],
   "source": [
    "card_color={'S':0x1F0A1,'H':0x1F0B1,'D':0x1F0C1,'C':0x1F0D1}\n",
    "card_color1=card_color\n",
    "card_color1"
   ]
  },
  {
   "cell_type": "code",
   "execution_count": 23,
   "metadata": {},
   "outputs": [
    {
     "data": {
      "text/plain": [
       "[2, 1]"
      ]
     },
     "execution_count": 23,
     "metadata": {},
     "output_type": "execute_result"
    }
   ],
   "source": [
    "a=[1,2]\n",
    "a.reverse()\n",
    "a"
   ]
  },
  {
   "cell_type": "code",
   "execution_count": null,
   "metadata": {},
   "outputs": [],
   "source": [
    "if d[0]==1: \n",
    "    for i in range(5):\n",
    "        if e[i]+1 != e[i+1]:\n",
    "            print('bust')\n",
    "    print('straight')\n",
    "        "
   ]
  },
  {
   "cell_type": "code",
   "execution_count": 6,
   "metadata": {},
   "outputs": [],
   "source": [
    "from random import randint\n",
    "from collections import Counter\n",
    "\n",
    "def print_roll(roll):\n",
    "    number_kind_of_dice = {0:'Ace',1:'King',2:'Queen',3:'Jack',4:'10',5:'9'}\n",
    "    real_roll = []\n",
    "    for i in roll:\n",
    "        real_roll.append(number_kind_of_dice[i])\n",
    "    print(' '.join(real_roll))\n",
    "def which_hand(roll):\n",
    "    kinds_of_dice = len(Counter(roll).keys())\n",
    "    number_of_each_dice = Counter(roll).values()\n",
    "    if kinds_of_dice == 1:\n",
    "        return 'Five of a kind'\n",
    "    elif kinds_of_dice == 2:\n",
    "        if max(number_of_each_dice) == 4:\n",
    "            return 'Four of a kind'\n",
    "        else:\n",
    "            return 'Full house'\n",
    "    elif kinds_of_dice == 3:\n",
    "        if max(number_of_each_dice) == 3:\n",
    "            return 'Three of a kind'\n",
    "        else:\n",
    "            return 'Two pair'\n",
    "    elif kinds_of_dice == 4:\n",
    "        return 'One pair'\n",
    "    else:\n",
    "        for i in range(1,5):\n",
    "            if roll[i] -  roll[i-1] == 2:\n",
    "                return 'Bust'\n",
    "        return 'Straight'\n",
    "def play():\n",
    "    dice_to_number = {'Ace':0,'King':1,'Queen':2,'Jack':3,'10':4,'9':5}\n",
    "    roll=[]\n",
    "    for i in range(5):\n",
    "        roll.append(randint(0,5))\n",
    "        roll.sort()\n",
    "    print_roll(roll)\n",
    "    print('It is a %s' % which_hand(roll))\n",
    "    times_of_roll = 1\n",
    "    while times_of_roll <3:\n",
    "        if times_of_roll == 1:\n",
    "            player_input = input('Which dice do you want to keep for the second roll? ')\n",
    "        else:\n",
    "            player_input = input('Which dice do you want to keep for the third roll? ')\n",
    "        player_operation=player_input.split(' ')\n",
    "        if len(player_operation) == 1:\n",
    "            if player_operation[0] == 'all' or player_operation[0] == 'All':\n",
    "                print('Ok, done.')\n",
    "                break\n",
    "            elif player_operation[0] in dice_to_number.keys():\n",
    "                roll = [dice_to_number[player_operation[0]]]\n",
    "                for i in range(4):\n",
    "                    roll.append(randint(0,5))\n",
    "                    roll.sort()\n",
    "                times_of_roll += 1\n",
    "            elif player_operation[0] == '':\n",
    "                roll=[]\n",
    "                for i in range(5):\n",
    "                    roll.append(randint(0,5))\n",
    "                    roll.sort()\n",
    "                times_of_roll += 1\n",
    "            else:\n",
    "                print('That is not possible, try again!')\n",
    "                continue\n",
    "        else:\n",
    "            a = []\n",
    "            for i in player_operation:\n",
    "                if i in dice_to_number.keys():\n",
    "                    a.append(dice_to_number[i])\n",
    "                else:\n",
    "                    print('That is not possible, try again!')\n",
    "                    a = []\n",
    "                    break\n",
    "            if len(a) == 0:\n",
    "                continue\n",
    "            b=0\n",
    "            for i in Counter(a):\n",
    "                if Counter(a)[i] > Counter(roll)[i]:\n",
    "                    print('That is not possible, try again!')\n",
    "                    b += 1\n",
    "                    break\n",
    "            if b == 1:\n",
    "                continue\n",
    "            else:\n",
    "                if len(a) == 5:\n",
    "                    print('Ok, done.')\n",
    "                    break\n",
    "                else:\n",
    "                    for i in range(5-len(a)):\n",
    "                        a.append(randint(0,5))\n",
    "                        a.sort()\n",
    "                    roll = a\n",
    "                    times_of_roll += 1           \n",
    "        print_roll(roll)\n",
    "        print('It is a %s' % which_hand(roll))   \n",
    "\n",
    "def simulate(n):\n",
    "    all_hands = []\n",
    "    for i in range(n):\n",
    "        a=[]\n",
    "        for i in range(5):\n",
    "            a.append(randint(0,5))\n",
    "            a.sort()\n",
    "        all_hands.append(which_hand(a))\n",
    "    print('Five of a kind : {:.2f}%'.format(Counter(all_hands)['Five of a kind']/ n * 100))\n",
    "    print('Four of a kind : {:.2f}%'.format(Counter(all_hands)['Four of a kind']/ n * 100))\n",
    "    print('Full house     : {:.2f}%'.format(Counter(all_hands)['Full house']/ n * 100))\n",
    "    print('Straight       : {:.2f}%'.format(Counter(all_hands)['Straight']/ n * 100))\n",
    "    print('Three of a kind: {:.2f}%'.format(Counter(all_hands)['Three of a kind']/ n * 100))\n",
    "    print('Two pair       : {:.2f}%'.format(Counter(all_hands)['Two pair']/ n * 100))\n",
    "    print('One pair       : {:.2f}%'.format(Counter(all_hands)['One pair']/ n * 100))\n",
    "    \n",
    "    \n",
    "# DEFINE OTHER FUNCTIONS"
   ]
  },
  {
   "cell_type": "code",
   "execution_count": 7,
   "metadata": {},
   "outputs": [
    {
     "name": "stdout",
     "output_type": "stream",
     "text": [
      "[2, 1, 2]\n"
     ]
    },
    {
     "data": {
      "text/plain": [
       "'Two pair'"
      ]
     },
     "execution_count": 7,
     "metadata": {},
     "output_type": "execute_result"
    }
   ],
   "source": [
    "from collections import Counter\n",
    "roll=[2,2,3,4,4]\n",
    "number_of_each_dice = []\n",
    "for i in Counter(roll).keys():\n",
    "    number_of_each_dice.append(Counter(roll)[i])\n",
    "print(number_of_each_dice)\n",
    "a =  Counter(roll).values()\n",
    "which_hand(roll)"
   ]
  },
  {
   "cell_type": "code",
   "execution_count": 9,
   "metadata": {},
   "outputs": [
    {
     "name": "stdout",
     "output_type": "stream",
     "text": [
      "Ace Queen Jack Jack 10\n",
      "it is a One pair\n",
      "Which dice do you want to keep for the second roll? all\n",
      "Ok, done.\n"
     ]
    }
   ],
   "source": [
    "seed(0)\n",
    "play()"
   ]
  },
  {
   "cell_type": "code",
   "execution_count": 23,
   "metadata": {},
   "outputs": [
    {
     "name": "stdout",
     "output_type": "stream",
     "text": [
      ":\n",
      "yes\n"
     ]
    }
   ],
   "source": [
    "a=input(':')\n",
    "if a == None:\n",
    "    print('none')\n",
    "else:\n",
    "    b=a.split(' ')\n",
    "    if b[0] == '':\n",
    "        print('yes')"
   ]
  },
  {
   "cell_type": "code",
   "execution_count": 5,
   "metadata": {},
   "outputs": [
    {
     "name": "stdout",
     "output_type": "stream",
     "text": [
      "1\n",
      "2\n",
      "3\n",
      "4\n"
     ]
    }
   ],
   "source": [
    "H=[1,2,3,4,4]\n",
    "from collections import Counter\n",
    "for i in Counter(H).keys():\n",
    "    print(i)"
   ]
  },
  {
   "cell_type": "code",
   "execution_count": 237,
   "metadata": {},
   "outputs": [],
   "source": [
    "def print_roll(roll):\n",
    "    number_kind_of_dice = {0:'Ace',1:'King',2:'Queen',3:'Jack',4:'10',5:'9'}\n",
    "    real_roll = []\n",
    "    for i in roll:\n",
    "        real_roll.append(number_kind_of_dice[i])\n",
    "    print(' '.join(real_roll))"
   ]
  },
  {
   "cell_type": "code",
   "execution_count": 7,
   "metadata": {},
   "outputs": [
    {
     "name": "stdout",
     "output_type": "stream",
     "text": [
      "Ace Queen Jack Jack 10\n",
      "it is a One pair\n",
      "Which dice do you want to keep for the second roll? Ace\n",
      "Queen Jack Jack Jack 10\n",
      "it is a Three of a kind\n",
      "Which dice do you want to keep for the second roll? Queen 10\n",
      "Queen Jack Jack Jack Jack\n",
      "it is a Four of a kind\n",
      "Which dice do you want to keep for the second roll? Queen\n",
      "Jack Jack Jack Jack Jack\n",
      "it is a Five of a kind\n",
      "Ok, done.\n"
     ]
    }
   ],
   "source": [
    "seed(0)\n",
    "from random import randint\n",
    "dice_to_number = {'Ace':0,'King':1,'Queen':2,'Jack':3,'10':4,'9':5}\n",
    "roll=[]\n",
    "for i in range(5):\n",
    "    roll.append(randint(0,5))\n",
    "    roll.sort()\n",
    "roll_copy = roll\n",
    "print_roll(roll)\n",
    "print('it is a %s' % which_hand(roll))\n",
    "times_of_roll = 0\n",
    "while times_of_roll <3:\n",
    "    player_input = input('Which dice do you want to keep for the second roll? ')\n",
    "    player_operation=player_input.split(' ')\n",
    "    if len(player_operation) == 1:\n",
    "        if player_operation[0] == 'all' or player_operation[0] == 'All':\n",
    "            break\n",
    "        elif player_operation[0] in dice_to_number.keys():\n",
    "            roll.remove(dice_to_number[player_operation[0]])\n",
    "            roll.append(randint(0,5))\n",
    "            roll_copy = roll\n",
    "            times_of_roll += 1\n",
    "            roll.sort()\n",
    "    else:\n",
    "        a = 0\n",
    "        for i in player_operation:\n",
    "            if i in dice_to_number.keys():\n",
    "                if dice_to_number[i] in roll:\n",
    "                    roll.remove(dice_to_number[i])\n",
    "                else:\n",
    "                    print('That is not possible, try again!')\n",
    "                    roll = roll_copy\n",
    "                    a += 1\n",
    "                    break\n",
    "            else:\n",
    "                print('That is not possible, try again!')\n",
    "                roll = roll_copy\n",
    "                a += 1\n",
    "                break\n",
    "        if a == 0:\n",
    "            for i in range(len(player_operation)):\n",
    "                roll.append(randint(0,5))\n",
    "                roll.sort()\n",
    "        roll_copy = roll\n",
    "        times_of_roll += 1           \n",
    "    print_roll(roll)\n",
    "    print('it is a %s' % which_hand(roll))   \n",
    "print('Ok, done.')  \n",
    "\n",
    "        \n"
   ]
  },
  {
   "cell_type": "code",
   "execution_count": 10,
   "metadata": {},
   "outputs": [
    {
     "data": {
      "text/plain": [
       "[1]"
      ]
     },
     "execution_count": 10,
     "metadata": {},
     "output_type": "execute_result"
    }
   ],
   "source": [
    "a= [1,2,2,3,4]\n",
    "a=[1]\n",
    "a"
   ]
  },
  {
   "cell_type": "code",
   "execution_count": 186,
   "metadata": {},
   "outputs": [],
   "source": [
    "def which_hand(roll):\n",
    "    kinds_of_dice = len(Counter(roll).keys())\n",
    "    number_of_each_dice = []\n",
    "    for i in Counter(roll).keys():\n",
    "        number_of_each_dice.append(Counter(roll)[i])\n",
    "    if kinds_of_dice == 1:\n",
    "        return 'Five of a kind'\n",
    "    elif kinds_of_dice == 2:\n",
    "        if max(number_of_each_dice) == 4:\n",
    "            return 'Four of a kind'\n",
    "        else:\n",
    "            return 'Full house'\n",
    "    elif kinds_of_dice == 3:\n",
    "        if max(number_of_each_dice) == 3:\n",
    "            return 'Three of a kind'\n",
    "        else:\n",
    "            return 'Two pair'\n",
    "    elif kinds_of_dice == 4:\n",
    "        return 'One pair'\n",
    "    else:\n",
    "        for i in range(1,5):\n",
    "            if roll[i] -  roll[i-1] == 2:\n",
    "                return 'Bust'\n",
    "        return 'Straight'"
   ]
  },
  {
   "cell_type": "code",
   "execution_count": 258,
   "metadata": {},
   "outputs": [
    {
     "name": "stdout",
     "output_type": "stream",
     "text": [
      "no\n"
     ]
    }
   ],
   "source": [
    "dice_to_number = {'Ace':0,'King':1,'Queen':2,'Jack':3,'10':4,'9':5}\n",
    "if 'ace' in dice_to_number.keys():\n",
    "    print('yes')\n",
    "else:\n",
    "    print('no')"
   ]
  },
  {
   "cell_type": "code",
   "execution_count": 185,
   "metadata": {},
   "outputs": [
    {
     "name": "stdout",
     "output_type": "stream",
     "text": [
      "Counter({0: 4, 2: 1})\n",
      "dict_keys([0, 2])\n",
      "2\n",
      "4\n",
      "1\n"
     ]
    },
    {
     "data": {
      "text/plain": [
       "4"
      ]
     },
     "execution_count": 185,
     "metadata": {},
     "output_type": "execute_result"
    }
   ],
   "source": [
    "roll=[0, 0, 2, 0, 0]\n",
    "print(Counter(roll))\n",
    "b=[]\n",
    "print(Counter(roll).keys())\n",
    "print(len(Counter(roll).keys()))\n",
    "for i in Counter(roll).keys():\n",
    "    print(Counter(roll)[i])\n",
    "    b.append(Counter(roll)[i])\n",
    "max(b)"
   ]
  }
 ],
 "metadata": {
  "kernelspec": {
   "display_name": "Python 3",
   "language": "python",
   "name": "python3"
  },
  "language_info": {
   "codemirror_mode": {
    "name": "ipython",
    "version": 3
   },
   "file_extension": ".py",
   "mimetype": "text/x-python",
   "name": "python",
   "nbconvert_exporter": "python",
   "pygments_lexer": "ipython3",
   "version": "3.7.4"
  }
 },
 "nbformat": 4,
 "nbformat_minor": 2
}
