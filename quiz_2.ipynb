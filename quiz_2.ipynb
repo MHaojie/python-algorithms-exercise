{
 "cells": [
  {
   "cell_type": "code",
   "execution_count": 6,
   "metadata": {},
   "outputs": [
    {
     "name": "stdout",
     "output_type": "stream",
     "text": [
      "[8, 9, 2, 6, 4, 5, 3, 1, 10, 7]\n",
      "1\n"
     ]
    }
   ],
   "source": [
    "from random import seed, shuffle\n",
    "import sys\n",
    "def generate_permutation(for_seed, length):\n",
    "    seed(for_seed)\n",
    "    m = (for_seed)\n",
    "    values = list(range(1, length + 1))\n",
    "    shuffle(values)\n",
    "    return values\n",
    "values = generate_permutation(0,10)\n",
    "print(values)\n",
    "def maps_to(values, x):\n",
    "    return values.index(x)+1\n",
    "print(maps_to(values, 8))\n",
    "def length_of_cycle_containing(values, x):\n",
    "    if x == values.index(x)+1:\n",
    "        return 1\n",
    "    else:\n",
    "        a=0\n",
    "        while x != values.index(x)+1:\n",
    "            x = values.index(x)+1\n",
    "            a += 1\n",
    "        return a\n",
    "print(length_of_cycle_containing(values, 1))"
   ]
  },
  {
   "cell_type": "code",
   "execution_count": 20,
   "metadata": {},
   "outputs": [
    {
     "name": "stdout",
     "output_type": "stream",
     "text": [
      "5\n"
     ]
    }
   ],
   "source": [
    "def length_of_cycle_containing(values, x):\n",
    "    if x == values.index(x)+1:\n",
    "        return 1\n",
    "    else:\n",
    "        a=1\n",
    "        b=x\n",
    "        while b != values.index(x)+1:\n",
    "            x = values.index(x)+1\n",
    "            a += 1\n",
    "        return a\n",
    "print(length_of_cycle_containing(values, 10))"
   ]
  },
  {
   "cell_type": "code",
   "execution_count": 31,
   "metadata": {},
   "outputs": [],
   "source": [
    "def analyse(values):\n",
    "    return [m]+list(length_of_cycle_containing(values,i)for i in values)\n"
   ]
  },
  {
   "cell_type": "code",
   "execution_count": 34,
   "metadata": {},
   "outputs": [
    {
     "data": {
      "text/plain": [
       "[0, 2, 5, 5, 3, 3, 3, 5, 2, 5, 5]"
      ]
     },
     "execution_count": 34,
     "metadata": {},
     "output_type": "execute_result"
    }
   ],
   "source": [
    "analyse(values)"
   ]
  }
 ],
 "metadata": {
  "kernelspec": {
   "display_name": "Python 3",
   "language": "python",
   "name": "python3"
  },
  "language_info": {
   "codemirror_mode": {
    "name": "ipython",
    "version": 3
   },
   "file_extension": ".py",
   "mimetype": "text/x-python",
   "name": "python",
   "nbconvert_exporter": "python",
   "pygments_lexer": "ipython3",
   "version": "3.7.4"
  }
 },
 "nbformat": 4,
 "nbformat_minor": 2
}
