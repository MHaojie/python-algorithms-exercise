{
 "cells": [
  {
   "cell_type": "code",
   "execution_count": 1,
   "metadata": {},
   "outputs": [],
   "source": [
    "# DO *NOT* WRITE YOUR NAME TO MAINTAIN ANONYMITY FOR PLAGIARISM DETECTION\n",
    "\n",
    "\n",
    "# In both functions below, grid is supposed to be a sequence of strings\n",
    "# all of the same length, consisting of nothing but spaces and *s,\n",
    "# and represent one or more \"full polygons\" that do not \"touch\" each other.\n",
    "import copy\n",
    "def display(*grid):\n",
    "    a= list(grid)\n",
    "    for i in a:\n",
    "        b = ' '.join(list(i))\n",
    "        print(b)\n",
    "def find_node(first_node,b,c):\n",
    "    #if first_node[0] >= 0 and first_node[0]<len(b) and first_node[1] >= 0 and first_node[1] < len(b[0]):\n",
    "    c.append(first_node)\n",
    "    if first_node[0]!= 0 and b[first_node[0]-1][first_node[1]] == '*'and (first_node[0]-1,first_node[1]) not in c:\n",
    "        find_node((first_node[0]-1,first_node[1]),b,c)\n",
    "    if first_node[0]!= len(b)-1 and b[first_node[0]+1][first_node[1]] == '*'and (first_node[0]+1,first_node[1]) not in c:\n",
    "        find_node((first_node[0]+1,first_node[1]),b,c)\n",
    "    if first_node[1]!= 0 and b[first_node[0]][first_node[1]-1] == '*'and (first_node[0],first_node[1]-1) not in c:\n",
    "        find_node((first_node[0],first_node[1]-1),b,c)\n",
    "    if first_node[1]!= len(b[0])-1 and b[first_node[0]][first_node[1]+1] == '*'and (first_node[0],first_node[1]+1) not in c:\n",
    "        find_node((first_node[0],first_node[1]+1),b,c)      \n",
    "def display_leftmost_topmost_boundary(*grid):\n",
    "    print(grid)\n",
    "    a = list(grid)\n",
    "    b = []\n",
    "    first_node=[]\n",
    "    for i in range(len(a)):\n",
    "        b.append(list(a[i]))\n",
    "    for i in range(len(b)):\n",
    "        for j in range(len(b[i])):\n",
    "            if b[i][j]== '*':\n",
    "                first_node.append(i)\n",
    "                first_node.append(j)\n",
    "                break\n",
    "        if len(first_node)!= 0:\n",
    "            first_node = tuple(first_node)\n",
    "            break\n",
    "    c=[]\n",
    "    find_node(first_node,b,c)\n",
    "    b_copy = copy.deepcopy(b)\n",
    "    for i in range(1,len(b)-1):\n",
    "        for j in range(1,len(b[0])-1):\n",
    "            if b_copy[i-1][j]=='*' and b_copy[i+1][j]=='*' and b_copy[i][j+1]=='*' and b_copy[i][j-1]=='*':\n",
    "                b[i][j]= ' '\n",
    "            if (i,j) not in c and b_copy[i][j]=='*' :\n",
    "                b[i][j]= ' '\n",
    "    for i in b:\n",
    "        print(' '.join(i))\n",
    "    for i in b_copy:\n",
    "        print(' '.join(i))\n",
    "    for i in range(len(b)):\n",
    "        if (i,0) not in c and b_copy[i][0]=='*' :\n",
    "                b[i][0]= ' '\n",
    "        if (i,len(b[0])-1) not in c and b[i][len(b[0])-1]=='*' :\n",
    "                b[i][len(b[0])-1]= ' '\n",
    "    for j in range(len(b[0])):\n",
    "        if (0,j) not in c and b_copy[0][j]=='*' :\n",
    "                b[0][j]= ' '\n",
    "        if (len(b)-1,j) not in c and b_copy[len(b)-1][j]=='*' :\n",
    "                b[len(b)-1][j]= ' '\n",
    "    for i in b:\n",
    "        print(' '.join(i))\n",
    "\n",
    "# POSSIBLY DEFINE OTHER FUNCTIONS"
   ]
  },
  {
   "cell_type": "code",
   "execution_count": 2,
   "metadata": {},
   "outputs": [
    {
     "name": "stdout",
     "output_type": "stream",
     "text": [
      "('  *    ', ' ****  ', '*****  ', '****** ', ' ****  ', ' **    ')\n",
      "    *        \n",
      "  *   * *    \n",
      "*       *    \n",
      "*         *  \n",
      "  *   * *    \n",
      "  * *        \n",
      "    *        \n",
      "  * * * *    \n",
      "* * * * *    \n",
      "* * * * * *  \n",
      "  * * * *    \n",
      "  * *        \n",
      "    *        \n",
      "  *   * *    \n",
      "*       *    \n",
      "*         *  \n",
      "  *   * *    \n",
      "  * *        \n"
     ]
    }
   ],
   "source": [
    "grid_3 = ('  *    ',\n",
    "          ' ****  ',\n",
    "          '*****  ',\n",
    "          '****** ',\n",
    "          ' ****  ',\n",
    "          ' **    '\n",
    "         )\n",
    "display_leftmost_topmost_boundary(*grid_3)"
   ]
  },
  {
   "cell_type": "code",
   "execution_count": 104,
   "metadata": {},
   "outputs": [
    {
     "name": "stdout",
     "output_type": "stream",
     "text": [
      "[1, 2, [4, 5]]\n",
      "[1, 2, [3, 4]]\n"
     ]
    }
   ],
   "source": [
    "import copy\n",
    "a = [1,2,[3,4]]\n",
    "b = copy.copy(a)\n",
    "a[2]=[4,5]\n",
    "print(a)\n",
    "print(b)"
   ]
  },
  {
   "cell_type": "code",
   "execution_count": null,
   "metadata": {},
   "outputs": [],
   "source": [
    "def check_not_boundry(grid,i,k):\n",
    "    if i !=0 and k != 0 and i != len(grid)-1 and j != len(grid[0])-1:\n",
    "        #i，k不是边界点的时候\n",
    "        count = 0\n",
    "        if grid[i-1][j] == ' ':\n",
    "            count += 1\n",
    "        if grid[i+1][j] == ' ':\n",
    "            count += 1\n",
    "        if grid[i][j-1] == ' ':\n",
    "            count += 1\n",
    "        if grid[i][j+1] == ' ':\n",
    "            count += 1\n",
    "        if count = "
   ]
  },
  {
   "cell_type": "code",
   "execution_count": null,
   "metadata": {},
   "outputs": [],
   "source": [
    "def display_leftmost_topmost_boundary(*grid):\n",
    "    print(grid)\n",
    "    a = list(grid)\n",
    "    b = []\n",
    "    first_node=[]\n",
    "    for i in range(len(a)):\n",
    "        b.append(list(a[i]))\n",
    "    for i in range(len(b)):\n",
    "        for j in range(len(b[i])):\n",
    "            if b[i][j]== '*':\n",
    "                first_node.append(i)\n",
    "                first_node.append(j)\n",
    "                break\n",
    "        if len(first_node)!= 0:\n",
    "            break\n",
    "    print(first_node)"
   ]
  }
 ],
 "metadata": {
  "kernelspec": {
   "display_name": "Python 3",
   "language": "python",
   "name": "python3"
  },
  "language_info": {
   "codemirror_mode": {
    "name": "ipython",
    "version": 3
   },
   "file_extension": ".py",
   "mimetype": "text/x-python",
   "name": "python",
   "nbconvert_exporter": "python",
   "pygments_lexer": "ipython3",
   "version": "3.7.4"
  }
 },
 "nbformat": 4,
 "nbformat_minor": 2
}
