{
 "cells": [
  {
   "cell_type": "code",
   "execution_count": 1,
   "metadata": {},
   "outputs": [],
   "source": [
    "class Point:\n",
    "    def __init__(self,x = 'hello',y = 'world'):\n",
    "        if x == 'hello' and y == 'world':\n",
    "            self.x = 0\n",
    "            self.y = 0\n",
    "        elif x != 'hello' and y == 'world':\n",
    "            raise PointError('Cannot create point.')\n",
    "        elif x == 'hello' and y != 'world':\n",
    "            raise PointError('Cannot create point.')\n",
    "        else:\n",
    "            self.x = x\n",
    "            self.y = y    \n",
    "    def __str__(self):\n",
    "        return '({},{})'.format(self.x,self.y)\n",
    "\n",
    "class PointError(Exception):\n",
    "    pass\n",
    "\n",
    "\n",
    "class NonVerticalLine:\n",
    "    def __init__(self,*,point_1 = Point() ,point_2 = Point()):\n",
    "        self.point_1 = point_1\n",
    "        self.point_2 = point_2\n",
    "        if point_1 == point_2 or point_1.x == point_2.x:\n",
    "            raise NonVerticalLineError('Cannot create nonvertical line.')\n",
    "        self.slope = (point_1.y - point_2.y) / (point_1.x - point_2.x)\n",
    "        self.intercept = point_1.y - (point_1.y - point_2.y) / (point_1.x - point_2.x) * point_1.x \n",
    "    def __str__(self):\n",
    "        return '({},{},slope:{},intercept:{})'.format(self.point_1,self.point_2,self.slope,self.intercept)\n",
    "    def change_point_or_points(self,*,point_1 = 'hello' ,point_2 = 'hello'):\n",
    "        if point_1 != 'hello' and point_2 != 'hello':\n",
    "            if point_1 == point_2 or point_1.x == point_2.x:\n",
    "                raise NonVerticalLineError('Cannot perform this change.')\n",
    "            else:\n",
    "                self.point_1 = point_1\n",
    "                self.point_2 = point_2\n",
    "        elif point_1 != 'hello' and point_2 == 'hello':\n",
    "            if point_1 == self.point_2 or point_1.x == self.point_2.x:\n",
    "                raise NonVerticalLineError('Cannot perform this change.')\n",
    "            else:\n",
    "                self.point_1 = point_1\n",
    "        elif point_1 == 'hello' and point_2 != 'hello':\n",
    "            if self.point_1 == point_2 or self.point_1.x == point_2.x:\n",
    "                raise NonVerticalLineError('Cannot perform this change.')\n",
    "            else:\n",
    "                self.point_2 = point_2\n",
    "        else:\n",
    "            pass\n",
    "        self.slope = (self.point_1.y - self.point_2.y) / (self.point_1.x - self.point_2.x)\n",
    "        self.intercept = self.point_1.y - (self.point_1.y - self.point_2.y) / (self.point_1.x - self.point_2.x) * self.point_1.x \n",
    "\n",
    "class NonVerticalLineError(Exception):\n",
    "    pass\n"
   ]
  },
  {
   "cell_type": "code",
   "execution_count": 1,
   "metadata": {},
   "outputs": [
    {
     "ename": "NameError",
     "evalue": "name 'Point' is not defined",
     "output_type": "error",
     "traceback": [
      "\u001b[1;31m---------------------------------------------------------------------------\u001b[0m",
      "\u001b[1;31mNameError\u001b[0m                                 Traceback (most recent call last)",
      "\u001b[1;32m<ipython-input-1-46f19ca5cdf4>\u001b[0m in \u001b[0;36m<module>\u001b[1;34m\u001b[0m\n\u001b[1;32m----> 1\u001b[1;33m \u001b[0mp1\u001b[0m \u001b[1;33m=\u001b[0m \u001b[0mPoint\u001b[0m\u001b[1;33m(\u001b[0m\u001b[1;36m1\u001b[0m\u001b[1;33m,\u001b[0m \u001b[1;36m2\u001b[0m\u001b[1;33m)\u001b[0m\u001b[1;33m\u001b[0m\u001b[1;33m\u001b[0m\u001b[0m\n\u001b[0m\u001b[0;32m      2\u001b[0m \u001b[0mp2\u001b[0m \u001b[1;33m=\u001b[0m \u001b[0mPoint\u001b[0m\u001b[1;33m(\u001b[0m\u001b[1;36m4\u001b[0m\u001b[1;33m,\u001b[0m \u001b[1;36m4\u001b[0m\u001b[1;33m)\u001b[0m\u001b[1;33m\u001b[0m\u001b[1;33m\u001b[0m\u001b[0m\n\u001b[0;32m      3\u001b[0m \u001b[0mp4\u001b[0m \u001b[1;33m=\u001b[0m \u001b[0mPoint\u001b[0m\u001b[1;33m(\u001b[0m\u001b[1;36m6\u001b[0m\u001b[1;33m,\u001b[0m \u001b[1;36m2\u001b[0m\u001b[1;33m)\u001b[0m\u001b[1;33m\u001b[0m\u001b[1;33m\u001b[0m\u001b[0m\n\u001b[0;32m      4\u001b[0m \u001b[0mline\u001b[0m \u001b[1;33m=\u001b[0m \u001b[0mNonVerticalLine\u001b[0m\u001b[1;33m(\u001b[0m\u001b[0mpoint_1\u001b[0m\u001b[1;33m=\u001b[0m\u001b[0mp1\u001b[0m\u001b[1;33m,\u001b[0m \u001b[0mpoint_2\u001b[0m\u001b[1;33m=\u001b[0m\u001b[0mp1\u001b[0m\u001b[1;33m)\u001b[0m\u001b[1;33m\u001b[0m\u001b[1;33m\u001b[0m\u001b[0m\n\u001b[0;32m      5\u001b[0m \u001b[0mprint\u001b[0m\u001b[1;33m(\u001b[0m\u001b[0mline\u001b[0m\u001b[1;33m)\u001b[0m\u001b[1;33m\u001b[0m\u001b[1;33m\u001b[0m\u001b[0m\n",
      "\u001b[1;31mNameError\u001b[0m: name 'Point' is not defined"
     ]
    }
   ],
   "source": [
    "p1 = Point(1, 2)\n",
    "p2 = Point(4, 4)\n",
    "p4 = Point(6, 2)\n",
    "line = NonVerticalLine(point_1=p1, point_2=p1)\n",
    "print(line)\n",
    "print(line.slope)\n",
    "print(line.intercept)\n",
    "line.change_point_or_points(point_2 = p4)\n",
    "print(line)\n",
    "print(line.slope)\n",
    "print(line.intercept)\n",
    "Point(1, 2)\n",
    "print(Point(1, 2))"
   ]
  },
  {
   "cell_type": "code",
   "execution_count": 120,
   "metadata": {},
   "outputs": [
    {
     "name": "stdout",
     "output_type": "stream",
     "text": [
      "1\n"
     ]
    }
   ],
   "source": [
    "a = 0.0\n",
    "b = -0.0\n",
    "if a == b:\n",
    "    print(1)"
   ]
  },
  {
   "cell_type": "code",
   "execution_count": 13,
   "metadata": {},
   "outputs": [],
   "source": [
    "class BankAccount:\n",
    "    def __init__(self,accountNumber=0 ,accountName='yl',balance=0):\n",
    "        self.accountNumber = accountNumber\n",
    "        self.accountName = accountName\n",
    "        self.balance = balance\n",
    "    def __str__(self):\n",
    "        return '({},{}.{})'.format(self.accountNumber,self.accountName,self.balance)"
   ]
  },
  {
   "cell_type": "code",
   "execution_count": 14,
   "metadata": {},
   "outputs": [
    {
     "name": "stdout",
     "output_type": "stream",
     "text": [
      "(0,yl.0)\n"
     ]
    }
   ],
   "source": [
    "\n",
    "account1 = BankAccount(123456,'mhj',10000)\n",
    "account2 = BankAccount()\n",
    "print(account2)"
   ]
  }
 ],
 "metadata": {
  "kernelspec": {
   "display_name": "Python 3",
   "language": "python",
   "name": "python3"
  },
  "language_info": {
   "codemirror_mode": {
    "name": "ipython",
    "version": 3
   },
   "file_extension": ".py",
   "mimetype": "text/x-python",
   "name": "python",
   "nbconvert_exporter": "python",
   "pygments_lexer": "ipython3",
   "version": "3.7.4"
  }
 },
 "nbformat": 4,
 "nbformat_minor": 2
}
