{
 "cells": [
  {
   "cell_type": "code",
   "execution_count": 6,
   "metadata": {},
   "outputs": [
    {
     "name": "stdout",
     "output_type": "stream",
     "text": [
      "Enter two integers, the second one being strictly positive: 1 8\n",
      "Here are the generated values: [2, 5, 1, 3, 1, 4, 4, 4]\n",
      "\n",
      "The difference between last and first values is:\n",
      "   2\n",
      "\n",
      "Here are the values represented as horizontal bars:\n",
      "\n",
      "     *  * \n",
      "     *  *  *  *  * \n",
      "     * \n",
      "     *  *  * \n",
      "     * \n",
      "     *  *  *  * \n",
      "     *  *  *  * \n",
      "     *  *  *  * \n",
      "\n",
      "Here are the values represented as vertical bars, with a surrounding frame:\n",
      "\n",
      "   --------------------------\n",
      "   |    *                   |\n",
      "   |    *           *  *  * |\n",
      "   |    *     *     *  *  * |\n",
      "   | *  *     *     *  *  * |\n",
      "   | *  *  *  *  *  *  *  * |\n",
      "   --------------------------\n",
      "\n"
     ]
    }
   ],
   "source": [
    "from random import seed, randrange\n",
    "import sys\n",
    "\n",
    "\n",
    "try: \n",
    "    for_seed, length = (int(x) for x in input('Enter two integers, the second '\n",
    "                                              'one being strictly positive: '\n",
    "                                             ).split()\n",
    "                       )\n",
    "    if length <= 0:\n",
    "        raise ValueError\n",
    "except ValueError:\n",
    "    print('Incorrect input, giving up.')\n",
    "    sys.exit()\n",
    "seed(for_seed)\n",
    "values = [randrange(1, 7) for _ in range(length)]\n",
    "print('Here are the generated values:', values)\n",
    "print('')\n",
    "d = values[-1] - values[0]\n",
    "print('The difference between last and first values is:\\n  ',d,)\n",
    "print('')\n",
    "print('Here are the values represented as horizontal bars:\\n')\n",
    "a = 0\n",
    "while a < length:\n",
    "    print('    ','  '.join(['*']* values[a]),'')\n",
    "    a += 1\n",
    "print('\\nHere are the values represented as vertical bars, '\n",
    "      'with a surrounding frame:\\n'\n",
    "     )\n",
    "b = 0\n",
    "matrix = []\n",
    "while b<length:\n",
    "    c = ['  ']* (max(values)-values[b]) + ['* ']* values[b]\n",
    "    b += 1\n",
    "    matrix.append(c)\n",
    "transpose=[[matrix[j][i] for j in range(len(matrix))] for i in range(len(matrix[0]))]\n",
    "print('   '+'-'* (3*length + 2))\n",
    "for i in transpose:\n",
    "    print('   '+'| '+' '.join(i)+'|')\n",
    "print('   '+'-'* (3*length + 2))\n",
    "print('')"
   ]
  },
  {
   "cell_type": "code",
   "execution_count": 7,
   "metadata": {},
   "outputs": [
    {
     "data": {
      "text/plain": [
       "6.5"
      ]
     },
     "execution_count": 7,
     "metadata": {},
     "output_type": "execute_result"
    }
   ],
   "source": [
    "36-29.5"
   ]
  },
  {
   "cell_type": "code",
   "execution_count": 12,
   "metadata": {},
   "outputs": [
    {
     "name": "stdout",
     "output_type": "stream",
     "text": [
      "[1, 2, 3] [4, 5, 6] [7, 8, 9]\n"
     ]
    },
    {
     "data": {
      "text/plain": [
       "[[1, 4, 7], [2, 5, 8], [3, 6, 9]]"
      ]
     },
     "execution_count": 12,
     "metadata": {},
     "output_type": "execute_result"
    }
   ],
   "source": [
    "matrix =[[1,2,3],[4,5,6],[7,8,9]]\n",
    "print(*matrix)\n",
    "matrix = map(list,zip(*matrix))\n",
    "m=list(matrix)\n",
    "m"
   ]
  },
  {
   "cell_type": "code",
   "execution_count": null,
   "metadata": {},
   "outputs": [],
   "source": []
  }
 ],
 "metadata": {
  "kernelspec": {
   "display_name": "Python 3",
   "language": "python",
   "name": "python3"
  },
  "language_info": {
   "codemirror_mode": {
    "name": "ipython",
    "version": 3
   },
   "file_extension": ".py",
   "mimetype": "text/x-python",
   "name": "python",
   "nbconvert_exporter": "python",
   "pygments_lexer": "ipython3",
   "version": "3.7.4"
  }
 },
 "nbformat": 4,
 "nbformat_minor": 2
}
